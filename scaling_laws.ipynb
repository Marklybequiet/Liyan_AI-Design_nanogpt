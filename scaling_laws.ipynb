version https://git-lfs.github.com/spec/v1
oid sha256:739449470fa1da1412ed31b89d9fd8274664429699064c1cd79926c8e342ad6d
size 268519
