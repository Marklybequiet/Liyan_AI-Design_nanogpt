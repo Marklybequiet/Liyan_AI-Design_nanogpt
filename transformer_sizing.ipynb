version https://git-lfs.github.com/spec/v1
oid sha256:1d2285cb3dccc5b62a4b256e6cda579e0e13aea3a58d5fbb19b8c4f0262a4630
size 14579
